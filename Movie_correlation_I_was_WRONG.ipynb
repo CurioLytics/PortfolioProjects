{
  "nbformat": 4,
  "nbformat_minor": 0,
  "metadata": {
    "colab": {
      "provenance": [],
      "authorship_tag": "ABX9TyPHrPrlf0Hti99MDlxeruVU",
      "include_colab_link": true
    },
    "kernelspec": {
      "name": "python3",
      "display_name": "Python 3"
    },
    "language_info": {
      "name": "python"
    }
  },
  "cells": [
    {
      "cell_type": "markdown",
      "metadata": {
        "id": "view-in-github",
        "colab_type": "text"
      },
      "source": [
        "<a href=\"https://colab.research.google.com/github/Emanuel-Nguyen/PortfolioProjects/blob/main/Movie_correlation_I_was_WRONG.ipynb\" target=\"_parent\"><img src=\"https://colab.research.google.com/assets/colab-badge.svg\" alt=\"Open In Colab\"/></a>"
      ]
    },
    {
      "cell_type": "code",
      "execution_count": 78,
      "metadata": {
        "id": "dEwUEFtgsJ6w"
      },
      "outputs": [],
      "source": [
        "import pandas as pd\n",
        "import seaborn as sns\n",
        "import numpy as np\n",
        "import matplotlib\n",
        "import matplotlib.pyplot as plt\n",
        "\n",
        "plt.style.use('ggplot')\n",
        "from matplotlib.pyplot import figure  #this is no need\n",
        "\n",
        "%matplotlib inline\n",
        "matplotlib.rcParams['figure.figsize']=(12,8)\n",
        "\n",
        "df=pd.read_csv(r\"project.csv\")"
      ]
    },
    {
      "cell_type": "code",
      "source": [
        "#observe at the table\n",
        "df.head(5)"
      ],
      "metadata": {
        "id": "aMzTPQVKsvoY"
      },
      "execution_count": null,
      "outputs": []
    },
    {
      "cell_type": "code",
      "source": [
        "#find missing\n",
        "#1\n",
        "#df.isna()\n",
        "#2\n",
        "#df[df.isna().any(axis=1)]\n",
        "#3 advanced\n",
        "for col in df.columns:\n",
        "  pct_missing=np.mean(df[col].isnull())\n",
        "  print('{} - {}%'.format(col, pct_missing))\n"
      ],
      "metadata": {
        "id": "pGcGNHAYupcG"
      },
      "execution_count": null,
      "outputs": []
    },
    {
      "cell_type": "code",
      "source": [
        "df=df.dropna() #because drop will create a coppy, so there is need to assign to the table\n",
        "for col in df.columns:\n",
        "  pct_missing=np.mean(df[col].isnull())\n",
        "  print('{} - {}%'.format(col, pct_missing))"
      ],
      "metadata": {
        "id": "KVRxP56lv8QH"
      },
      "execution_count": null,
      "outputs": []
    },
    {
      "cell_type": "code",
      "source": [
        "df.dtypes"
      ],
      "metadata": {
        "id": "2the0rqO5BWL"
      },
      "execution_count": null,
      "outputs": []
    },
    {
      "cell_type": "code",
      "source": [
        "#change data type\n",
        "df['budget'].astype('int64')\n",
        "df['gross'].astype('int64')\n",
        "\n"
      ],
      "metadata": {
        "id": "6mgzlC945hYK"
      },
      "execution_count": null,
      "outputs": []
    },
    {
      "cell_type": "code",
      "source": [
        "df"
      ],
      "metadata": {
        "id": "5hcvP6Ds6gl6"
      },
      "execution_count": null,
      "outputs": []
    },
    {
      "cell_type": "code",
      "source": [
        "#extract year from date using extract(pat=...) in pandas\n",
        "df['correct_year']=df['released'].str.extract(pat='([0-9]{4})').astype('int64')"
      ],
      "metadata": {
        "id": "I9RRPcYh6yTa"
      },
      "execution_count": 84,
      "outputs": []
    },
    {
      "cell_type": "code",
      "source": [
        "#sort\n",
        "df=df.sort_values(by=['gross'], inplace=False, ascending=False)"
      ],
      "metadata": {
        "id": "-qTniRLH8L96"
      },
      "execution_count": 85,
      "outputs": []
    },
    {
      "cell_type": "code",
      "source": [
        "#how to see all the records\n",
        "pd.set_option('display.max_rows',None)"
      ],
      "metadata": {
        "id": "B5bp5kdG9g6K"
      },
      "execution_count": 86,
      "outputs": []
    },
    {
      "cell_type": "code",
      "source": [],
      "metadata": {
        "id": "FM3wBobX_JLZ"
      },
      "execution_count": 86,
      "outputs": []
    },
    {
      "cell_type": "code",
      "source": [
        "#sort\n",
        "df.sort_values(by=['gross'], inplace=False, ascending=False)"
      ],
      "metadata": {
        "id": "hKHnp8Lr_GMp"
      },
      "execution_count": null,
      "outputs": []
    },
    {
      "cell_type": "code",
      "source": [
        "#delete duplicate\n",
        "#delete in a column\n",
        "#df['company'].drop_duplicates().sort_values(ascending=False)\n",
        "df.drop_duplicates()"
      ],
      "metadata": {
        "id": "q4F1TBWO_VdK"
      },
      "execution_count": null,
      "outputs": []
    },
    {
      "cell_type": "code",
      "source": [
        "#budget high correlation\n",
        "#company high correlation\n"
      ],
      "metadata": {
        "id": "sLvNt86P_7cp"
      },
      "execution_count": 89,
      "outputs": []
    },
    {
      "cell_type": "code",
      "source": [
        "#scatter with buget and gross\n",
        "\n",
        "plt.scatter(x=df['budget'],y=df['gross'])\n",
        "#title\n",
        "plt.title('Budget and Gross Earnings')\n",
        "plt.xlabel('Budget')\n",
        "plt.ylabel('Gross')\n",
        "plt.show()"
      ],
      "metadata": {
        "id": "O7KFlF-hCe50"
      },
      "execution_count": null,
      "outputs": []
    },
    {
      "cell_type": "code",
      "source": [
        "df.head()"
      ],
      "metadata": {
        "id": "L_6DYDoRCfJx"
      },
      "execution_count": null,
      "outputs": []
    },
    {
      "cell_type": "code",
      "source": [
        "#regression plot using seabotn\n",
        "\n",
        "sns.regplot(x='budget',y='gross', data=df,scatter_kws={\"color\":\"green\"},line_kws={\"color\":\"grey\"})"
      ],
      "metadata": {
        "id": "xJz1u2uQCfPw"
      },
      "execution_count": null,
      "outputs": []
    },
    {
      "cell_type": "code",
      "source": [
        "#delve into correlation"
      ],
      "metadata": {
        "id": "ftGtvcneCfSI"
      },
      "execution_count": null,
      "outputs": []
    },
    {
      "cell_type": "code",
      "source": [
        "#SEE ALL THE correlation\n",
        "df.corr(method='spearman') #pearson, kendall, spearman"
      ],
      "metadata": {
        "id": "FRDwTtQqCfVc"
      },
      "execution_count": null,
      "outputs": []
    },
    {
      "cell_type": "code",
      "source": [
        "#create heatmap\n",
        "correlation_matrix=df.corr(method='spearman')\n",
        "sns.heatmap(correlation_matrix, annot=True)\n",
        "plt.title('correlation')\n",
        "plt.xlabel('Movie Features')\n",
        "plt.ylabel('Movie Features')\n",
        "plt.show()"
      ],
      "metadata": {
        "id": "EdCkfnAXCfX4"
      },
      "execution_count": null,
      "outputs": []
    },
    {
      "cell_type": "code",
      "source": [
        "#numerize the string columns\n",
        "df_numerized=df\n",
        "for col in df_numerized.columns:\n",
        "  if(df_numerized[col].dtype=='object'):\n",
        "    df_numerized[col]=df_numerized[col].astype('category')\n",
        "    df_numerized[col]=df_numerized[col].cat.codes\n",
        "df_numerized\n"
      ],
      "metadata": {
        "id": "kjoCkBScCfdo"
      },
      "execution_count": null,
      "outputs": []
    },
    {
      "cell_type": "code",
      "source": [
        "#create heatmap\n",
        "correlation_matrix=df_numerized.corr(method='spearman')\n",
        "sns.heatmap(correlation_matrix, annot=True)\n",
        "plt.title('correlation')\n",
        "plt.xlabel('Movie Features')\n",
        "plt.ylabel('Movie Features')\n",
        "plt.show()"
      ],
      "metadata": {
        "id": "0owjXEZDCfaR"
      },
      "execution_count": null,
      "outputs": []
    },
    {
      "cell_type": "code",
      "source": [
        "#pair the correlation for simplicity\n",
        "correlation=df_numerized.corr()\n",
        "corr_pairs = correlation.unstack()\n",
        "corr_pairs"
      ],
      "metadata": {
        "id": "QxWMwLTbCfgM"
      },
      "execution_count": null,
      "outputs": []
    },
    {
      "cell_type": "code",
      "source": [
        "corr_pairs.sort_values()"
      ],
      "metadata": {
        "id": "_EfkJZVvCfjE"
      },
      "execution_count": null,
      "outputs": []
    },
    {
      "cell_type": "code",
      "source": [
        "#find pairs grater than 0.5\n",
        "high_corr = corr_pairs[(corr_pairs)>0.5]\n",
        "high_corr\n"
      ],
      "metadata": {
        "id": "sFg6AHAJTmci"
      },
      "execution_count": null,
      "outputs": []
    },
    {
      "cell_type": "code",
      "source": [
        "high_corr.sort_values(ascending=False)"
      ],
      "metadata": {
        "id": "td9hPGePUQoi"
      },
      "execution_count": null,
      "outputs": []
    },
    {
      "cell_type": "code",
      "source": [
        "#votes and budget have the highest correlation to gross earnings\n",
        "\n",
        "#i WRONG for supposing that company bran have impact on gross"
      ],
      "metadata": {
        "id": "c4rlhS3WU-Sx"
      },
      "execution_count": null,
      "outputs": []
    }
  ]
}