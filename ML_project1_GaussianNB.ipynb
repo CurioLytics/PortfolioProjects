{
  "nbformat": 4,
  "nbformat_minor": 0,
  "metadata": {
    "colab": {
      "provenance": [],
      "authorship_tag": "ABX9TyNIpJgfOnjswIc8oB3DYGMc",
      "include_colab_link": true
    },
    "kernelspec": {
      "name": "python3",
      "display_name": "Python 3"
    },
    "language_info": {
      "name": "python"
    }
  },
  "cells": [
    {
      "cell_type": "markdown",
      "metadata": {
        "id": "view-in-github",
        "colab_type": "text"
      },
      "source": [
        "<a href=\"https://colab.research.google.com/github/Emanuel-Nguyen/PortfolioProjects/blob/main/ML_project1_GaussianNB.ipynb\" target=\"_parent\"><img src=\"https://colab.research.google.com/assets/colab-badge.svg\" alt=\"Open In Colab\"/></a>"
      ]
    },
    {
      "cell_type": "code",
      "execution_count": null,
      "metadata": {
        "id": "-ogBm6pUdzXN"
      },
      "outputs": [],
      "source": [
        "\n",
        "import sklearn\n",
        "from sklearn.datasets import load_iris\n",
        "from sklearn.model_selection import train_test_split\n",
        "from sklearn.naive_bayes import GaussianNB\n",
        "from sklearn.metrics import accuracy_score\n"
      ]
    },
    {
      "cell_type": "markdown",
      "source": [
        "### Load dataset"
      ],
      "metadata": {
        "id": "ZPpzcrKMet0X"
      }
    },
    {
      "cell_type": "code",
      "source": [
        "prj1 = load_iris()"
      ],
      "metadata": {
        "id": "czllv32lQ3AW"
      },
      "execution_count": null,
      "outputs": []
    },
    {
      "cell_type": "markdown",
      "source": [
        "### Get to know the data"
      ],
      "metadata": {
        "id": "fzOHBMZpQ_Vb"
      }
    },
    {
      "cell_type": "code",
      "source": [
        "print(prj1.keys())\n",
        "print(prj1.DESCR)"
      ],
      "metadata": {
        "colab": {
          "base_uri": "https://localhost:8080/"
        },
        "id": "H7u90du2REj1",
        "outputId": "7593fbc8-f955-4e86-e84e-6c88601b2a24"
      },
      "execution_count": null,
      "outputs": [
        {
          "output_type": "stream",
          "name": "stdout",
          "text": [
            "dict_keys(['data', 'target', 'frame', 'target_names', 'DESCR', 'feature_names', 'filename', 'data_module'])\n",
            ".. _iris_dataset:\n",
            "\n",
            "Iris plants dataset\n",
            "--------------------\n",
            "\n",
            "**Data Set Characteristics:**\n",
            "\n",
            "    :Number of Instances: 150 (50 in each of three classes)\n",
            "    :Number of Attributes: 4 numeric, predictive attributes and the class\n",
            "    :Attribute Information:\n",
            "        - sepal length in cm\n",
            "        - sepal width in cm\n",
            "        - petal length in cm\n",
            "        - petal width in cm\n",
            "        - class:\n",
            "                - Iris-Setosa\n",
            "                - Iris-Versicolour\n",
            "                - Iris-Virginica\n",
            "                \n",
            "    :Summary Statistics:\n",
            "\n",
            "    ============== ==== ==== ======= ===== ====================\n",
            "                    Min  Max   Mean    SD   Class Correlation\n",
            "    ============== ==== ==== ======= ===== ====================\n",
            "    sepal length:   4.3  7.9   5.84   0.83    0.7826\n",
            "    sepal width:    2.0  4.4   3.05   0.43   -0.4194\n",
            "    petal length:   1.0  6.9   3.76   1.76    0.9490  (high!)\n",
            "    petal width:    0.1  2.5   1.20   0.76    0.9565  (high!)\n",
            "    ============== ==== ==== ======= ===== ====================\n",
            "\n",
            "    :Missing Attribute Values: None\n",
            "    :Class Distribution: 33.3% for each of 3 classes.\n",
            "    :Creator: R.A. Fisher\n",
            "    :Donor: Michael Marshall (MARSHALL%PLU@io.arc.nasa.gov)\n",
            "    :Date: July, 1988\n",
            "\n",
            "The famous Iris database, first used by Sir R.A. Fisher. The dataset is taken\n",
            "from Fisher's paper. Note that it's the same as in R, but not as in the UCI\n",
            "Machine Learning Repository, which has two wrong data points.\n",
            "\n",
            "This is perhaps the best known database to be found in the\n",
            "pattern recognition literature.  Fisher's paper is a classic in the field and\n",
            "is referenced frequently to this day.  (See Duda & Hart, for example.)  The\n",
            "data set contains 3 classes of 50 instances each, where each class refers to a\n",
            "type of iris plant.  One class is linearly separable from the other 2; the\n",
            "latter are NOT linearly separable from each other.\n",
            "\n",
            ".. topic:: References\n",
            "\n",
            "   - Fisher, R.A. \"The use of multiple measurements in taxonomic problems\"\n",
            "     Annual Eugenics, 7, Part II, 179-188 (1936); also in \"Contributions to\n",
            "     Mathematical Statistics\" (John Wiley, NY, 1950).\n",
            "   - Duda, R.O., & Hart, P.E. (1973) Pattern Classification and Scene Analysis.\n",
            "     (Q327.D83) John Wiley & Sons.  ISBN 0-471-22361-1.  See page 218.\n",
            "   - Dasarathy, B.V. (1980) \"Nosing Around the Neighborhood: A New System\n",
            "     Structure and Classification Rule for Recognition in Partially Exposed\n",
            "     Environments\".  IEEE Transactions on Pattern Analysis and Machine\n",
            "     Intelligence, Vol. PAMI-2, No. 1, 67-71.\n",
            "   - Gates, G.W. (1972) \"The Reduced Nearest Neighbor Rule\".  IEEE Transactions\n",
            "     on Information Theory, May 1972, 431-433.\n",
            "   - See also: 1988 MLC Proceedings, 54-64.  Cheeseman et al\"s AUTOCLASS II\n",
            "     conceptual clustering system finds 3 classes in the data.\n",
            "   - Many, many more ...\n"
          ]
        }
      ]
    },
    {
      "cell_type": "code",
      "source": [
        "print(prj1['feature_names'])"
      ],
      "metadata": {
        "id": "pc1kDyj4llGr"
      },
      "execution_count": null,
      "outputs": []
    },
    {
      "cell_type": "code",
      "source": [
        "print(prj1['data'])"
      ],
      "metadata": {
        "id": "2s232LlumBAl"
      },
      "execution_count": null,
      "outputs": []
    },
    {
      "cell_type": "code",
      "source": [
        "print(prj1['target_names'])"
      ],
      "metadata": {
        "id": "qcBapOxxlX5I"
      },
      "execution_count": null,
      "outputs": []
    },
    {
      "cell_type": "markdown",
      "source": [
        "### Organize the data"
      ],
      "metadata": {
        "id": "4rK2UujCRpCX"
      }
    },
    {
      "cell_type": "code",
      "source": [
        "types = prj1['target_names']\n",
        "type_output = prj1['target']\n",
        "traits = prj1['feature_names']\n",
        "trait_input = prj1['data']"
      ],
      "metadata": {
        "id": "abMchiw7R1Sl"
      },
      "execution_count": null,
      "outputs": []
    },
    {
      "cell_type": "markdown",
      "source": [
        "### A sample of parameters and the label"
      ],
      "metadata": {
        "id": "xtpTlsHoSS-k"
      }
    },
    {
      "cell_type": "code",
      "source": [
        "print(types)\n",
        "print('Class label = ' , type_output[0])\n",
        "print(traits)\n",
        "print(trait_input[0])\n"
      ],
      "metadata": {
        "id": "hxJVECRJSr0k",
        "colab": {
          "base_uri": "https://localhost:8080/"
        },
        "outputId": "9b7b1e5f-f768-47a9-cb2e-63ade88ed3cd"
      },
      "execution_count": null,
      "outputs": [
        {
          "output_type": "stream",
          "name": "stdout",
          "text": [
            "['setosa' 'versicolor' 'virginica']\n",
            "Class label =  0\n",
            "['sepal length (cm)', 'sepal width (cm)', 'petal length (cm)', 'petal width (cm)']\n",
            "[5.1 3.5 1.4 0.2]\n"
          ]
        }
      ]
    },
    {
      "cell_type": "markdown",
      "source": [
        "### Split into train and test sets"
      ],
      "metadata": {
        "id": "QzCIGdQBgNTa"
      }
    },
    {
      "cell_type": "code",
      "source": [
        "train, test, train_output, test_output = train_test_split(trait_input,\n",
        "type_output,\n",
        "test_size=0.33,\n",
        "random_state=42)"
      ],
      "metadata": {
        "id": "SRyt5sfAQWKp"
      },
      "execution_count": null,
      "outputs": []
    },
    {
      "cell_type": "markdown",
      "source": [
        "### Initialize the classifier"
      ],
      "metadata": {
        "id": "PSzhiTh4Ugg3"
      }
    },
    {
      "cell_type": "code",
      "source": [
        "# this algo is the combination of Gaussian and Naive Bayes\n",
        "\n",
        "gnb = GaussianNB()"
      ],
      "metadata": {
        "id": "_UZpH96wU0C2"
      },
      "execution_count": null,
      "outputs": []
    },
    {
      "cell_type": "markdown",
      "source": [
        "### Train the classifier"
      ],
      "metadata": {
        "id": "R9_7xP3zU4vX"
      }
    },
    {
      "cell_type": "code",
      "source": [
        "model = gnb.fit(train,train_output)"
      ],
      "metadata": {
        "id": "nLDAC3SwU7-O"
      },
      "execution_count": null,
      "outputs": []
    },
    {
      "cell_type": "markdown",
      "source": [
        "### Make predictions"
      ],
      "metadata": {
        "id": "PQ5KS1ksVoyP"
      }
    },
    {
      "cell_type": "code",
      "source": [
        "preds = gnb.predict(test)\n",
        "print(preds)"
      ],
      "metadata": {
        "colab": {
          "base_uri": "https://localhost:8080/"
        },
        "id": "S5jZTFDUVuJb",
        "outputId": "81415e37-9338-44b3-d633-9bb9dc124144"
      },
      "execution_count": null,
      "outputs": [
        {
          "output_type": "stream",
          "name": "stdout",
          "text": [
            "[1 0 2 1 1 0 1 2 1 1 2 0 0 0 0 2 2 1 1 2 0 2 0 2 2 2 2 2 0 0 0 0 1 0 0 2 1\n",
            " 0 0 0 2 1 1 0 0 1 1 2 1 2]\n"
          ]
        }
      ]
    },
    {
      "cell_type": "markdown",
      "source": [
        "### Evaluate accuracy"
      ],
      "metadata": {
        "id": "n_gSwangWBE0"
      }
    },
    {
      "cell_type": "code",
      "source": [
        "print(accuracy_score(test_output, preds))"
      ],
      "metadata": {
        "colab": {
          "base_uri": "https://localhost:8080/"
        },
        "id": "pz4MH04lWGwb",
        "outputId": "6aedad74-3f90-4a8a-82ea-a06f8923f310"
      },
      "execution_count": null,
      "outputs": [
        {
          "output_type": "stream",
          "name": "stdout",
          "text": [
            "0.96\n"
          ]
        }
      ]
    }
  ]
}